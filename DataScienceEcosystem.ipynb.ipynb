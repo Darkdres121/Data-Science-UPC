{
  "metadata": {
    "kernelspec": {
      "name": "python",
      "display_name": "Python (Pyodide)",
      "language": "python"
    },
    "language_info": {
      "codemirror_mode": {
        "name": "python",
        "version": 3
      },
      "file_extension": ".py",
      "mimetype": "text/x-python",
      "name": "python",
      "nbconvert_exporter": "python",
      "pygments_lexer": "ipython3",
      "version": "3.8"
    }
  },
  "nbformat_minor": 4,
  "nbformat": 4,
  "cells": [
    {
      "cell_type": "markdown",
      "source": "# Data Science Tools and Ecosystem",
      "metadata": {}
    },
    {
      "cell_type": "markdown",
      "source": "## In this notebook, Data Science Tools and Ecosystem are summarized",
      "metadata": {}
    },
    {
      "cell_type": "markdown",
      "source": "## Lenguajes de Programación en Ciencia de Datos\n\nA continuación se enumeran algunos de los lenguajes más utilizados en el campo de la ciencia de datos:\n\n1. **Python** 🐍 – El rey actual. Versátil, con una gran comunidad y toneladas de bibliotecas como NumPy, pandas, scikit-learn, TensorFlow, etc.\n2. **R** 📊 – Especializado en estadísticas y visualización de datos. Ideal para análisis exploratorio y reportes.\n3. **SQL** 🗃️ – Lenguaje esencial para manejar bases de datos y realizar consultas eficientes.\n4. **Julia** ⚡ – Rápido y con sintaxis matemática. Gana terreno en computación científica y aprendizaje automático.\n5. **Scala** 🚀 – Utilizado especialmente junto a Apache Spark para big data.\n6. **Java** ☕ – Aunque no es tan común para análisis puro, es útil en producción y procesamiento de datos a gran escala.\n7. **MATLAB** 🧠 – Potente para cálculos numéricos, aunque más usado en entornos académicos e ingenieriles.\n",
      "metadata": {}
    },
    {
      "cell_type": "markdown",
      "source": "## Bibliotecas Populares en Ciencia de Datos\n\nEstas son algunas de las bibliotecas más utilizadas en ciencia de datos, organizadas por categoría:\n\n### Manipulación y Análisis de Datos\n- **pandas** – Estructuras de datos como DataFrame para análisis tabular.\n- **NumPy** – Operaciones numéricas de bajo nivel y manejo de arrays multidimensionales.\n\n###  Visualización de Datos\n- **Matplotlib** – Visualización básica en 2D.\n- **Seaborn** – Gráficos estadísticos bonitos y fáciles de usar (basado en Matplotlib).\n- **Plotly** – Visualizaciones interactivas y dinámicas.\n- **Altair** – Visualización declarativa basada en Vega-Lite.\n\n### Aprendizaje Automático\n- **scikit-learn** – Algoritmos clásicos de machine learning (regresión, clasificación, clustering, etc.).\n- **XGBoost** – Modelos de boosting altamente eficientes.\n- **LightGBM** – Boosting rápido y con buena precisión, ideal para grandes conjuntos de datos.\n- **CatBoost** – Optimizado para variables categóricas.\n\n### Deep Learning\n- **TensorFlow** – Biblioteca de Google para modelos de aprendizaje profundo.\n- **Keras** – API de alto nivel para TensorFlow, más amigable.\n- **PyTorch** – Alternativa popular de Facebook, flexible y dinámica.\n\n### Limpieza y Preprocesamiento\n- **OpenRefine** – Limpieza de datos semi-automatizada.\n- **missingno** – Visualización de valores faltantes.\n\n###  Ciencia y Estadística\n- **SciPy** – Herramientas científicas y estadísticas.\n- **statsmodels** – Modelos estadísticos clásicos (regresiones, tests, etc.).\n\n",
      "metadata": {}
    },
    {
      "cell_type": "markdown",
      "source": "## Herramientas Comunes en Ciencia de Datos\n\n| Herramienta         | Descripción breve                                               | Categoría Principal         |\n|---------------------|------------------------------------------------------------------|-----------------------------|\n| **Jupyter Notebook**| Entorno interactivo para escribir y ejecutar código en bloques  | Desarrollo / Análisis       |\n| **Google Colab**    | Jupyter en la nube con soporte para GPU gratuito                 | Desarrollo / Aprendizaje    |\n| **RStudio**         | IDE dedicado al lenguaje R para análisis estadístico            | Desarrollo / Estadística    |\n| **Tableau**         | Plataforma de visualización de datos intuitiva                  | Visualización               |\n| **Power BI**        | Herramienta de análisis de datos e inteligencia empresarial     | Visualización / BI          |\n| **Apache Spark**    | Procesamiento distribuido de grandes volúmenes de datos         | Big Data / Procesamiento    |\n| **Docker**          | Contenerización para entornos reproducibles                      | DevOps / Reproducibilidad   |\n| **Airflow**         | Orquestación de flujos de trabajo de datos                      | Automatización / Pipelines  |\n| **Git**             | Control de versiones para proyectos de ciencia de datos         | Colaboración / Gestión      |\n| **VS Code**         | Editor de código ligero pero potente con extensiones útiles",
      "metadata": {}
    },
    {
      "cell_type": "markdown",
      "source": "## ➕ Ejemplos de Expresiones Aritméticas\n\n\n| Expresión           | Significado                            | Resultado |\n|---------------------|-----------------------------------------|-----------|\n| `3 + 5`             | Suma de 3 y 5                           | `8`       |\n| `10 - 4`            | Resta de 10 menos 4                     | `6`       |\n| `7 * 2`             | Multiplicación de 7 por 2               | `14`      |\n| `8 / 4`             | División de 8 entre 4                   | `2.0`     |\n| `2 ** 3`            | 2 elevado a la potencia 3               | `8`       |\n| `10 % 3`            | Módulo: el residuo de 10 dividido por 3| `1`       |\n| `(4 + 5) * 2`       | Paréntesis primero, luego multiplicación| `18`      |",
      "metadata": {}
    },
    {
      "cell_type": "code",
      "source": "# Multiplicación y suma de dos números\n\n# Definir los números\na = 6\nb = 4\n\n# Realizar las operaciones\nmultiplicacion = a * b\nsuma = a + b\n\n# Mostrar los resultados\nprint(\"Multiplicación:\", multiplicacion)\nprint(\"Suma:\", suma)",
      "metadata": {
        "trusted": true
      },
      "outputs": [
        {
          "name": "stdout",
          "text": "Multiplicación: 24\nSuma: 10\n",
          "output_type": "stream"
        }
      ],
      "execution_count": 2
    },
    {
      "cell_type": "code",
      "source": "# Conversión de minutos a horas\n\n# Definir la cantidad de minutos\nminutos = 150\n\n# Calcular horas y minutos restantes\nhoras = minutos // 60\nresto_minutos = minutos % 60\n\n# Mostrar el resultado\nprint(f\"{minutos} minutos equivalen a {horas} hora(s) y {resto_minutos} minuto(s).\")",
      "metadata": {
        "trusted": true
      },
      "outputs": [
        {
          "name": "stdout",
          "text": "150 minutos equivalen a 2 hora(s) y 30 minuto(s).\n",
          "output_type": "stream"
        }
      ],
      "execution_count": 3
    },
    {
      "cell_type": "code",
      "source": "# Lista de objetivos\n\nobjetivos = [\n    \"Aprender Python básico\",\n    \"Dominar análisis de datos con pandas\",\n    \"Entender visualización con matplotlib y seaborn\",\n    \"Practicar modelos de machine learning\",\n    \"Completar un proyecto de ciencia de datos\"\n]\n\n# Mostrar los objetivos\nprint(\"📌 Lista de Objetivos:\")\nfor i, objetivo in enumerate(objetivos, start=1):\n    print(f\"{i}. {objetivo}\")",
      "metadata": {
        "trusted": true
      },
      "outputs": [
        {
          "name": "stdout",
          "text": "📌 Lista de Objetivos:\n1. Aprender Python básico\n2. Dominar análisis de datos con pandas\n3. Entender visualización con matplotlib y seaborn\n4. Practicar modelos de machine learning\n5. Completar un proyecto de ciencia de datos\n",
          "output_type": "stream"
        }
      ],
      "execution_count": 4
    },
    {
      "cell_type": "markdown",
      "source": "### ✍️ Autor: Andrés Figueroa",
      "metadata": {}
    },
    {
      "cell_type": "code",
      "source": "",
      "metadata": {
        "trusted": true
      },
      "outputs": [],
      "execution_count": null
    }
  ]
}